{
 "cells": [
  {
   "cell_type": "code",
   "execution_count": 25,
   "metadata": {},
   "outputs": [],
   "source": [
    "import cv2\n",
    "import numpy as np \n",
    "from pyzbar.pyzbar import decode"
   ]
  },
  {
   "cell_type": "code",
   "execution_count": 26,
   "metadata": {},
   "outputs": [],
   "source": [
    "# img=cv2.imread('D:/desktop/Seventh Semester/HCI/Project/TUI/TUI/green_marker.png')"
   ]
  },
  {
   "cell_type": "code",
   "execution_count": 27,
   "metadata": {},
   "outputs": [],
   "source": [
    "# decoded_green_img=decode(img)\n",
    "# print(decoded_green_img)"
   ]
  },
  {
   "cell_type": "code",
   "execution_count": 28,
   "metadata": {},
   "outputs": [
    {
     "name": "stdout",
     "output_type": "stream",
     "text": [
      "Green Marker\n",
      "Green Marker\n",
      "Green Marker\n",
      "Green Marker\n",
      "Green Marker\n",
      "Green Marker\n",
      "Green Marker\n",
      "Green Marker\n",
      "Green Marker\n",
      "Green Marker\n",
      "Green Marker\n",
      "Green Marker\n",
      "Red Marker\n",
      "Red Marker\n",
      "Red Marker\n",
      "Red Marker\n",
      "Red Marker\n",
      "Red Marker\n",
      "Red Marker\n",
      "Red Marker\n",
      "Red Marker\n",
      "Red Marker\n",
      "Red Marker\n",
      "Red Marker\n",
      "Red Marker\n",
      "Red Marker\n",
      "Red Marker\n",
      "Red Marker\n",
      "Red Marker\n",
      "Red Marker\n",
      "Red Marker\n",
      "Red Marker\n",
      "Red Marker\n"
     ]
    }
   ],
   "source": [
    "cap=cv2.VideoCapture(0)\n",
    "\n",
    "\n",
    "tui_state = \"Awake\"\n",
    "\n",
    "\n",
    "\n",
    "while True:\n",
    "    \n",
    "    success, img=cap.read()\n",
    "    for barcode in decode(img):\n",
    "        # print(barcode.data)\n",
    "        myData=barcode.data.decode('utf-8')\n",
    "        print(myData)\n",
    "        \n",
    "        \n",
    "        if myData == \"Green Marker\":\n",
    "            tui_state = \"Awake\"\n",
    "        elif myData == \"Red Marker\":\n",
    "            tui_state = \"Emergency\"\n",
    "    \n",
    "    cv2.putText(img, f\"Current State: {tui_state}\", (20, 20), cv2.FONT_HERSHEY_SIMPLEX, 0.7, (0, 0, 255), 2)\n",
    "    \n",
    "    \n",
    "    \n",
    "    \n",
    "    cv2.imshow('Result',img)\n",
    "    if cv2.waitKey(1) & 0xFF == 27:\n",
    "        break\n",
    "\n",
    "cap.release()\n",
    "cv2.destroyAllWindows()"
   ]
  }
 ],
 "metadata": {
  "kernelspec": {
   "display_name": "HCI",
   "language": "python",
   "name": "python3"
  },
  "language_info": {
   "codemirror_mode": {
    "name": "ipython",
    "version": 3
   },
   "file_extension": ".py",
   "mimetype": "text/x-python",
   "name": "python",
   "nbconvert_exporter": "python",
   "pygments_lexer": "ipython3",
   "version": "3.10.13"
  }
 },
 "nbformat": 4,
 "nbformat_minor": 2
}
