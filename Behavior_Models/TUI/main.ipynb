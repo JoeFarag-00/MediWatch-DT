{
 "cells": [
  {
   "cell_type": "code",
   "execution_count": 18,
   "metadata": {},
   "outputs": [],
   "source": [
    "import cv2\n",
    "\n",
    "cap = cv2.VideoCapture(0)\n",
    "\n",
    "def green_marker_detected(frame):\n",
    "    hsv = cv2.cvtColor(frame, cv2.COLOR_BGR2HSV)\n",
    "    lower_green = (35, 100, 100)\n",
    "    upper_green = (85, 255, 255)\n",
    "    mask = cv2.inRange(hsv, lower_green, upper_green)\n",
    "    green_pixels = cv2.countNonZero(mask)\n",
    "    return green_pixels > 3000\n",
    "\n",
    "def red_marker_detected(frame):\n",
    "    hsv = cv2.cvtColor(frame, cv2.COLOR_BGR2HSV)\n",
    "    lower_red = (0, 100, 100)\n",
    "    upper_red = (10, 255, 255)\n",
    "    mask = cv2.inRange(hsv, lower_red, upper_red)\n",
    "    red_pixels = cv2.countNonZero(mask)\n",
    "    return red_pixels > 3000\n",
    "\n",
    "tui_state = \"red\"\n",
    "\n",
    "while True:\n",
    "    ret, frame = cap.read()\n",
    "\n",
    "    if not ret:\n",
    "        break\n",
    "\n",
    "    if red_marker_detected(frame):\n",
    "        tui_state = \"red\"\n",
    "    elif green_marker_detected(frame):\n",
    "        tui_state = \"green\"\n",
    "\n",
    "    cv2.putText(frame, f\"Current State: {tui_state}\", (20, 20), cv2.FONT_HERSHEY_SIMPLEX, 0.7, (0, 0, 255), 2)\n",
    "\n",
    "    cv2.imshow('TUI', frame)\n",
    "    # print(tui_state)\n",
    "    if cv2.waitKey(1) & 0xFF == 27:\n",
    "        break\n",
    "\n",
    "cap.release()\n",
    "cv2.destroyAllWindows()\n"
   ]
  }
 ],
 "metadata": {
  "kernelspec": {
   "display_name": "HCI",
   "language": "python",
   "name": "python3"
  },
  "language_info": {
   "codemirror_mode": {
    "name": "ipython",
    "version": 3
   },
   "file_extension": ".py",
   "mimetype": "text/x-python",
   "name": "python",
   "nbconvert_exporter": "python",
   "pygments_lexer": "ipython3",
   "version": "3.10.13"
  }
 },
 "nbformat": 4,
 "nbformat_minor": 2
}
